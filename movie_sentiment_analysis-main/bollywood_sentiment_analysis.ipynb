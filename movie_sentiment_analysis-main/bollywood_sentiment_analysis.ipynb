{
 "cells": [
  {
   "cell_type": "code",
   "execution_count": 20,
   "metadata": {},
   "outputs": [],
   "source": [
    "import pandas as pd\n",
    "import numpy as np \n",
    "from textblob import TextBlob\n",
    "from sklearn.feature_extraction.text import TfidfVectorizer"
   ]
  },
  {
   "cell_type": "code",
   "execution_count": 21,
   "metadata": {},
   "outputs": [],
   "source": [
    "def sentiment_pipeline(file_path):\n",
    "    df = pd.read_csv(\"Data/\"+file_path)\n",
    "\n",
    "    drop_cols = ['wA1Bge src','FmcO7b','vWB2ve','WHxBId','gjvCCd']\n",
    "\n",
    "    df = df.drop(columns=drop_cols,errors='ignore')\n",
    "\n",
    "    df = df.rename(columns={'T7nuU 2':\"Review\"})\n",
    "\n",
    "    df[\"sentiment\"] = df[\"Review\"].apply(\n",
    "        lambda x: 1 if TextBlob(str(x)).sentiment.polarity > 0 else 0\n",
    "    )\n",
    "\n",
    "    percentages = df['sentiment'].value_counts(normalize=True) * 100\n",
    "\n",
    "    print('FILE NAME:',file_path)\n",
    "    print('POSITIVE REVIEW:',percentages[1])\n",
    "    print('NEGATIVE REVIEW:',percentages[0])\n",
    "\n",
    "    vectorizer = TfidfVectorizer(max_features=20, stop_words='english')\n",
    "    X = vectorizer.fit_transform(df['Review'].dropna())\n",
    "    tags = vectorizer.get_feature_names_out()\n",
    "    print(tags)\n"
   ]
  },
  {
   "cell_type": "code",
   "execution_count": 22,
   "metadata": {},
   "outputs": [
    {
     "name": "stdout",
     "output_type": "stream",
     "text": [
      "FILE NAME: Taare_Zameen_Par.csv\n",
      "POSITIVE REVIEW: 92.0\n",
      "NEGATIVE REVIEW: 8.0\n",
      "['aamir' 'best' 'child' 'children' 'film' 'good' 'heart' 'ishaan' 'just'\n",
      " 'khan' 'life' 'like' 'movie' 'parents' 'really' 'special' 'teacher'\n",
      " 'time' 'watch' 'watched']\n"
     ]
    }
   ],
   "source": [
    "sentiment_pipeline('Taare_Zameen_Par.csv')"
   ]
  },
  {
   "cell_type": "code",
   "execution_count": null,
   "metadata": {},
   "outputs": [],
   "source": []
  }
 ],
 "metadata": {
  "kernelspec": {
   "display_name": "Python 3",
   "language": "python",
   "name": "python3"
  },
  "language_info": {
   "codemirror_mode": {
    "name": "ipython",
    "version": 3
   },
   "file_extension": ".py",
   "mimetype": "text/x-python",
   "name": "python",
   "nbconvert_exporter": "python",
   "pygments_lexer": "ipython3",
   "version": "3.13.7"
  }
 },
 "nbformat": 4,
 "nbformat_minor": 2
}
